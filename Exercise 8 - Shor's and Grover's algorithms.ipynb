{
 "cells": [
  {
   "cell_type": "markdown",
   "metadata": {},
   "source": [
    "## Shor's algorithm\n",
    "One of the most famous quantum algorithm invented by Peter Shor in 1994. It allows for effective factorization of numbers being a product of two great prime numbers, which is a basis for RSA - widely used cryptographics algorithm. If someone could succesfully implement this method to work with number big enough this would pose a threat great to currently used cybersecurity systems."
   ]
  },
  {
   "cell_type": "code",
   "execution_count": 1,
   "metadata": {},
   "outputs": [],
   "source": [
    "from qiskit import Aer\n",
    "from qiskit.aqua.algorithms import Shor, Grover\n",
    "from qiskit.aqua.components.oracles import LogicalExpressionOracle\n",
    "from qiskit.visualization import plot_histogram"
   ]
  },
  {
   "cell_type": "code",
   "execution_count": 2,
   "metadata": {},
   "outputs": [],
   "source": [
    "N = 15"
   ]
  },
  {
   "cell_type": "code",
   "execution_count": 3,
   "metadata": {},
   "outputs": [],
   "source": [
    "shor = Shor(N)"
   ]
  },
  {
   "cell_type": "code",
   "execution_count": 4,
   "metadata": {},
   "outputs": [
    {
     "name": "stdout",
     "output_type": "stream",
     "text": [
      "The factors of 15 computed by the Shor's algorithm: [3, 5].\n"
     ]
    }
   ],
   "source": [
    "backend = Aer.get_backend('qasm_simulator')\n",
    "result = shor.run(backend)\n",
    "print(\"The factors of {} computed by the Shor's algorithm: {}.\".format(N, result['factors'][0]))"
   ]
  },
  {
   "cell_type": "code",
   "execution_count": null,
   "metadata": {},
   "outputs": [],
   "source": [
    "circuit = shor.construct_circuit(True)\n",
    "circuit.draw()"
   ]
  },
  {
   "cell_type": "markdown",
   "metadata": {},
   "source": [
    "_Sidenote:_ Shor's algorithm requires number of qubits proportional to number of bits required to express the factorized number. Among publicly available backends only `qasm_simulator` offers enough qubits to execute the Shor's algorithm and only for at most 5-bit numbers."
   ]
  },
  {
   "cell_type": "markdown",
   "metadata": {},
   "source": [
    "**Exercise.** Use Shor's algorithm to factorize number 21."
   ]
  },
  {
   "cell_type": "markdown",
   "metadata": {},
   "source": [
    "## Grover's algorithm\n",
    "Another notable quantum algorithm which is used to find a selected element in an unordered set of size $N$ in time $\\mathcal{O}(\\sqrt{N})$ (in contrary to classical world where there are required $\\mathcal{O}(N/2)$ steps on average)."
   ]
  },
  {
   "cell_type": "markdown",
   "metadata": {},
   "source": [
    "Short explanation of DIMACS CNF notation:\n",
    "- lines starting with `c` are treated a comments,\n",
    "- first line (excluding comments) is required to start with `p cnf `,\n",
    "- subsequent lines contain the logical alternative expressions - each number `(1, 2, 3...)` denotes a logical variable, minus sign (`-`) before them denote negation and `0` at the end of each line is a requirement of the notation,\n",
    "- the final formula is the conjunction of all the lines. The below expresion is resolved as follows:<br/>\n",
    "`(~v1 | ~v2 | ~v3) & (~v1 | ~v2 | v3) & (~v1 | v2 | ~v3) & (~v1 | v2 | v3) & (v1 | ~v2 | ~v3) & (v1 | ~v2 | v3) & (v1 | v2 | ~v3)`     "
   ]
  },
  {
   "cell_type": "code",
   "execution_count": 5,
   "metadata": {},
   "outputs": [],
   "source": [
    "sat_cnf = \"\"\"\n",
    "c Example DIMACS 3-sat\n",
    "p cnf 3\n",
    "-1 -2 -3 0\n",
    "-1 -2 3 0\n",
    "-1 2 -3 0\n",
    "-1 2 3 0\n",
    "1 -2 -3 0\n",
    "1 -2 3 0\n",
    "1 2 -3 0\n",
    "\"\"\"\n",
    "oracle = LogicalExpressionOracle(sat_cnf)"
   ]
  },
  {
   "cell_type": "code",
   "execution_count": 6,
   "metadata": {},
   "outputs": [],
   "source": [
    "grover = Grover(oracle)"
   ]
  },
  {
   "cell_type": "code",
   "execution_count": 7,
   "metadata": {},
   "outputs": [
    {
     "name": "stdout",
     "output_type": "stream",
     "text": [
      "[-1, -2, -3]\n"
     ]
    }
   ],
   "source": [
    "backend = Aer.get_backend('qasm_simulator')\n",
    "result = grover.run(backend, shots=1)\n",
    "print(result[\"result\"])"
   ]
  },
  {
   "cell_type": "code",
   "execution_count": null,
   "metadata": {},
   "outputs": [],
   "source": [
    "circuit = grover.construct_circuit(True)\n",
    "circuit.draw(output='mpl')"
   ]
  },
  {
   "cell_type": "markdown",
   "metadata": {},
   "source": [
    "**Exercise.** Use Grovers algorithm to find a 5-bit number that has exactly one bit set in every 3-bit subsequence."
   ]
  }
 ],
 "metadata": {
  "kernelspec": {
   "display_name": "Python 3",
   "language": "python",
   "name": "python3"
  },
  "language_info": {
   "codemirror_mode": {
    "name": "ipython",
    "version": 3
   },
   "file_extension": ".py",
   "mimetype": "text/x-python",
   "name": "python",
   "nbconvert_exporter": "python",
   "pygments_lexer": "ipython3",
   "version": "3.7.4"
  }
 },
 "nbformat": 4,
 "nbformat_minor": 2
}
